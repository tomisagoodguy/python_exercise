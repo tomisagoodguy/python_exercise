{
 "cells": [
  {
   "cell_type": "markdown",
   "metadata": {},
   "source": [
    "1.\t輸入數個整數並儲存至串列中，直到輸入-9999結束，再將此串列轉換成元組 ，最後顯示該元組 以及長度、最大值、最小值、總和。"
   ]
  },
  {
   "cell_type": "code",
   "execution_count": 3,
   "metadata": {},
   "outputs": [
    {
     "name": "stdout",
     "output_type": "stream",
     "text": [
      "轉換後的元組: (5, 9, 10)\n",
      "元組長度 3\n",
      "最大值 10\n",
      "最小值 5\n",
      "總和 24\n"
     ]
    }
   ],
   "source": [
    "numbers = []\n",
    "\n",
    "while True:\n",
    "    num = int(input('請輸入一個整數(輸入-9999結束):'))\n",
    "    if num == -9999:\n",
    "        break\n",
    "    numbers.append(num)\n",
    "\n",
    "# 將列表轉換成元組\n",
    "numbers_tuple = tuple(numbers)\n",
    "\n",
    "print(\"轉換後的元組:\", numbers_tuple)\n",
    "print(\"元組長度\", len(numbers_tuple))\n",
    "print(\"最大值\", max(numbers_tuple))\n",
    "print('最小值', min(numbers_tuple))\n",
    "print('總和', sum(numbers_tuple))\n",
    "  \n",
    "    "
   ]
  },
  {
   "cell_type": "markdown",
   "metadata": {},
   "source": [
    "2.\t輸入數個整數並建立兩個元組 ，輸入-9999結束，將此兩元組 合併並從小到大排序，顯示排序前的元組 和排序後的串列。"
   ]
  },
  {
   "cell_type": "code",
   "execution_count": 4,
   "metadata": {},
   "outputs": [
    {
     "name": "stdout",
     "output_type": "stream",
     "text": [
      "輸入第一個元組的數據:\n",
      "輸入第二個元組的數據:\n",
      "排序前的合併元組 (5, 6, 10, 15, 6, 3, 2, 1)\n",
      "排序後的列表 [1, 2, 3, 5, 6, 6, 10, 15]\n"
     ]
    }
   ],
   "source": [
    "tuple_list1 = []\n",
    "tuple_list2 = []\n",
    "\n",
    "print(\"輸入第一個元組的數據:\")\n",
    "while True:\n",
    "    num = int(input(\"請輸入一個整數(輸入-9999結束):\"))\n",
    "    if num ==-9999:\n",
    "        break\n",
    "    tuple_list1.append(num)\n",
    "\n",
    "print(\"輸入第二個元組的數據:\")\n",
    "while True:\n",
    "    num = int(input(\"請輸入一個整數(輸入-9999結束):\"))\n",
    "    if num ==-9999:\n",
    "        break\n",
    "    tuple_list2.append(num)\n",
    "    \n",
    "tuple1 = tuple(tuple_list1)\n",
    "tuple2 = tuple(tuple_list2)\n",
    "\n",
    "merged_tuple = tuple1+tuple2\n",
    "\n",
    "print(\"排序前的合併元組\",merged_tuple)\n",
    "\n",
    "sorted_list = sorted(merged_tuple)\n",
    "print(\"排序後的列表\",sorted_list)\n",
    "\n",
    " "
   ]
  },
  {
   "cell_type": "markdown",
   "metadata": {},
   "source": [
    "3.\t輸入至少五個字串至元組 ，直到輸入’end’結束，接著輸出這個元組 ，再分別顯示元組 的第一個元素到第三個元素，和倒數第三個元素。"
   ]
  },
  {
   "cell_type": "code",
   "execution_count": 5,
   "metadata": {},
   "outputs": [
    {
     "name": "stdout",
     "output_type": "stream",
     "text": [
      "請至少輸入五個字串!\n",
      "輸入的元組是: ('5', '6', '8', '9', '4', '5', '6', '9', '8', '7', '1', '5')\n",
      "前三個元素: ('5', '6', '8')\n",
      "倒數第三個元素: 7\n"
     ]
    }
   ],
   "source": [
    "string_list = []\n",
    "\n",
    "while True:\n",
    "    input_string = input(\"請輸入一個字串(輸入end結束):\")\n",
    "    \n",
    "    if input_string.lower() == 'end':\n",
    "        if len(string_list)<5:\n",
    "            print(\"請至少輸入五個字串!\")\n",
    "            continue\n",
    "        else:\n",
    "            break\n",
    "    string_list.append(input_string)\n",
    "    \n",
    "#將列表轉換成元組\n",
    "string_tuple = tuple(string_list)\n",
    "\n",
    "print('輸入的元組是:',string_tuple)\n",
    "print(\"前三個元素:\",string_tuple[:3])\n",
    "print(\"倒數第三個元素:\",string_tuple[-3])\n",
    "    "
   ]
  },
  {
   "cell_type": "markdown",
   "metadata": {},
   "source": [
    "4.\t輸入數個整數儲存到集合，直到-9999結束，顯示這個集合的長度、最大值、最小值、總和。"
   ]
  },
  {
   "cell_type": "code",
   "execution_count": 1,
   "metadata": {},
   "outputs": [
    {
     "name": "stdout",
     "output_type": "stream",
     "text": [
      "集合的長度:10\n",
      "最大值:65\n",
      "最小值:5\n",
      "總和:192\n"
     ]
    }
   ],
   "source": [
    "numbers = set() #創建一個空集合來儲存整數\n",
    "\n",
    "while True:\n",
    "    num = int(input(\"請輸入一個整數(輸入-9999結束):\"))\n",
    "    if num ==-9999:\n",
    "        break\n",
    "    numbers.add(num)\n",
    "\n",
    "if numbers: #確保集合不為空\n",
    "    print(f\"集合的長度:{len(numbers)}\")\n",
    "    print(f\"最大值:{max(numbers)}\")\n",
    "    print(f\"最小值:{min(numbers)}\")\n",
    "    print(f\"總和:{sum(numbers)}\")\n",
    "else:\n",
    "    print(\"沒有輸入任何數字\")\n",
    "    "
   ]
  },
  {
   "cell_type": "markdown",
   "metadata": {},
   "source": [
    "5.\t依序輸入五個、三個、九個整數，儲存到set1、set2、set3當中，查詢set2是否為set1的子集合?set3是否為set1的超集合?"
   ]
  },
  {
   "cell_type": "code",
   "execution_count": 5,
   "metadata": {},
   "outputs": [
    {
     "name": "stdout",
     "output_type": "stream",
     "text": [
      "創建set1(5個整數):\n",
      "創建set2(3個整數):\n",
      "創建set3(9個整數):\n",
      "\n",
      "集合內容:\n",
      "set1: {5, 10, 15, 20, 25}\n",
      "set2: {40, 35, 30}\n",
      "set3: {65, 70, 75, 45, 80, 50, 85, 55, 60}\n",
      "\n",
      "set2 是否為 set1 的子集合? False\n",
      "set3 是否為 set1 的超集合? False\n"
     ]
    }
   ],
   "source": [
    "#定義一個函數來接收輸入並創建集合\n",
    "def create_set(count):\n",
    "    new_set = set()\n",
    "    for i in range(count):\n",
    "        while True:\n",
    "            try:\n",
    "                num = int(input(f\"請輸入第{i+1}個整數:\"))\n",
    "                new_set.add(num)\n",
    "                break\n",
    "            except ValueError:\n",
    "                print(\"輸入無效，請輸入一個整數\")\n",
    "    return new_set\n",
    "\n",
    "# 創建三個集合\n",
    "print(\"創建set1(5個整數):\")\n",
    "set1 = create_set(5)\n",
    "\n",
    "print(\"創建set2(3個整數):\")\n",
    "set2 = create_set(3)\n",
    "\n",
    "print(\"創建set3(9個整數):\")\n",
    "set3 = create_set(9)\n",
    "\n",
    "# 顯示集合內容\n",
    "print(\"\\n集合內容:\")\n",
    "print(\"set1:\", set1)\n",
    "print(\"set2:\", set2)\n",
    "print(\"set3:\", set3)\n",
    "\n",
    "# 檢查子集合和超集合\n",
    "is_subset = set2.issubset(set1)\n",
    "is_superset = set3.issuperset(set1)\n",
    "\n",
    "# 輸出結果\n",
    "print(f\"\\nset2 是否為 set1 的子集合? {is_subset}\")\n",
    "print(f\"set3 是否為 set1 的超集合? {is_superset}\")\n",
    "        "
   ]
  },
  {
   "cell_type": "markdown",
   "metadata": {},
   "source": [
    "6.\t課程分組，分為X與Y兩組，輸入X和Y兩組需要學習的科目到集合中，以字串”end”作為結束，請依序分行顯示\n",
    "(1)\tX組和Y組所有的科目\n",
    "(2)\tX組和 Y組共同科目\n",
    "(3)\tY組有但是X組沒有的科目\n",
    "(4)\tX有Y沒有以及Y有X沒有的科目\n",
    "(5)\tX組: 國文、英文、數學乙、地理、歷史。 Y組：國文、數學甲、英文、物理、化學\n"
   ]
  },
  {
   "cell_type": "code",
   "execution_count": 1,
   "metadata": {},
   "outputs": [
    {
     "name": "stdout",
     "output_type": "stream",
     "text": [
      "請輸入X組的科目(輸入end結束):\n",
      "請輸入Y組的科目(輸入end結束):\n",
      "\n",
      " X組和Y組所有的科目:\n",
      "{'', 'e', 'a', 'd', 'b', 'c'}\n",
      "\n",
      " X組和Y組共同的科目:\n",
      "{'e'}\n",
      "\n",
      " Y組有但是X組沒有的科目：\n",
      "set()\n",
      "\n",
      " X有Y沒有以及Y有X沒有的科目：\n",
      "{'', 'a', 'c', 'd', 'b'}\n",
      "\n",
      "預設的X組和Y組科目：\n",
      "X組: {'英文', '地理', '數學乙', '國文', '歷史'}\n",
      "Y組: {'英文', '數學甲', '物理', '國文', '化學'}\n"
     ]
    }
   ],
   "source": [
    "print(\"請輸入X組的科目(輸入end結束):\")\n",
    "X= set()\n",
    "while True:\n",
    "    subject = input()\n",
    "    if subject.lower()=='end':\n",
    "        break\n",
    "    X.add(subject)\n",
    "    \n",
    "print(\"請輸入Y組的科目(輸入end結束):\")\n",
    "Y = set()\n",
    "while True:\n",
    "    subject = input()\n",
    "    if subject.lower() == 'end':\n",
    "        break\n",
    "    Y.add(subject)\n",
    "\n",
    "#顯示結果\n",
    "print('\\n X組和Y組所有的科目:')\n",
    "print(X|Y)\n",
    "\n",
    "print('\\n X組和Y組共同的科目:')\n",
    "print(X&Y)\n",
    "\n",
    "print(\"\\n Y組有但是X組沒有的科目：\")\n",
    "print(Y - X)\n",
    "\n",
    "print(\"\\n X有Y沒有以及Y有X沒有的科目：\")\n",
    "print(X ^ Y)\n",
    "\n",
    "#預設的X組和Y組科目\n",
    "# 新增：預設的X組和Y組科目\n",
    "X_default = {\"國文\", \"英文\", \"數學乙\", \"地理\", \"歷史\"}\n",
    "Y_default = {\"國文\", \"數學甲\", \"英文\", \"物理\", \"化學\"}\n",
    "\n",
    "print(\"\\n預設的X組和Y組科目：\")\n",
    "print(\"X組:\", X_default)\n",
    "print(\"Y組:\", Y_default)\n",
    "    "
   ]
  },
  {
   "cell_type": "markdown",
   "metadata": {},
   "source": [
    "7.\t自行輸入兩個字典，以輸入值end作為結束，將這兩個字典合併，根據key值字母，由小到大排序輸出，如有重複key值，後輸入的key值覆蓋前面的key值。"
   ]
  },
  {
   "cell_type": "code",
   "execution_count": null,
   "metadata": {},
   "outputs": [],
   "source": [
    "# def input_dictionary():\n",
    "#     dictionary = {}\n",
    "#     while True:\n",
    "#         key = input(\"請輸入鍵 (輸入 'end' 結束): \")\n",
    "#         if key.lower() == 'end':\n",
    "#             break\n",
    "#         value = input(\"請輸入值: \")\n",
    "#         dictionary[key] = value\n",
    "#     return dictionary\n",
    "\n",
    "\n",
    "# # 輸入第一個字典\n",
    "# print(\"請輸入第一個字典:\")\n",
    "# dict1 = input_dictionary()\n",
    "\n",
    "# # 輸入第二個字典\n",
    "# print(\"\\n請輸入第二個字典:\")\n",
    "# dict2 = input_dictionary()\n",
    "\n",
    "# # 合併字典\n",
    "# merged_dict = dict1.copy()\n",
    "# merged_dict.update(dict2)\n",
    "\n",
    "# # 按 key 排序\n",
    "# sorted_keys = sorted(merged_dict.keys())\n",
    "\n",
    "# # 輸出結果\n",
    "# print(\"\\n合併後的字典 (按 key 排序):\")\n",
    "# for key in sorted_keys:\n",
    "#     print(f\"{key}: {merged_dict[key]}\")"
   ]
  },
  {
   "cell_type": "markdown",
   "metadata": {},
   "source": [
    "8.\t輸入顏色字典color_dict 內容，直到鍵值輸入end為止。再依據鍵值字母由小到大排序輸出"
   ]
  },
  {
   "cell_type": "code",
   "execution_count": 2,
   "metadata": {},
   "outputs": [
    {
     "name": "stdout",
     "output_type": "stream",
     "text": [
      "顏色名稱:green,顏色代碼:2\n",
      "顏色名稱:red,顏色代碼:1\n"
     ]
    }
   ],
   "source": [
    "color_dict = {}\n",
    "\n",
    "#開始記錄顏色\n",
    "while True:\n",
    "    #紀錄的顏色名稱\n",
    "    color_name = input(\"請輸入顏色的名稱(結束輸入end)\")\n",
    "    if color_name.lower()=='end':\n",
    "        break\n",
    "    \n",
    "    #顏色的代碼\n",
    "    color_code = input(f\"請告我{color_name}的顏色代碼\")\n",
    "    \n",
    "    #把顏色名稱和代碼紀錄\n",
    "    color_dict[color_name]=color_code\n",
    "\n",
    "for name in sorted(color_dict.keys()):\n",
    "    print(f'顏色名稱:{name},顏色代碼:{color_dict[name]}')\n",
    "    "
   ]
  },
  {
   "cell_type": "markdown",
   "metadata": {},
   "source": [
    "9.\t輸入資料到字典中，直到輸入鍵值為end結束，再輸入一個鍵值，進行搜尋這個鍵值是否存在字典中。"
   ]
  },
  {
   "cell_type": "code",
   "execution_count": 3,
   "metadata": {},
   "outputs": [
    {
     "name": "stdout",
     "output_type": "stream",
     "text": [
      "輸入的字點內容是:\n",
      "1:我\n",
      "2:是\n",
      "找到了!1對應的值是:我\n"
     ]
    }
   ],
   "source": [
    "my_dict = {}\n",
    "\n",
    "#循環輸入資料到字典中\n",
    "while True:\n",
    "    key = input(\"請輸入鍵(輸入'end'結束):\")\n",
    "    if key.lower()=='end':\n",
    "        break\n",
    "    value = input(\"請輸入對應的值:\")\n",
    "    my_dict[key]=value\n",
    "    \n",
    "#顯示輸入的字典內容是\n",
    "print(\"輸入的字點內容是:\")\n",
    "for k,v in my_dict.items():\n",
    "    print(f\"{k}:{v}\")\n",
    "\n",
    "#搜尋功能\n",
    "search_key = input(\"請輸入要搜尋的鍵:\")\n",
    "\n",
    "#檢查鍵是否存在於字典中\n",
    "if search_key in my_dict:\n",
    "    print(f\"找到了!{search_key}對應的值是:{my_dict[search_key]}\")\n",
    "else:\n",
    "    print(f\"抱歉，{search_key}不在字典中\")\n"
   ]
  },
  {
   "cell_type": "markdown",
   "metadata": {},
   "source": [
    "10.\t輸入五筆資料放在 tuple10 的元組 ，之後印出元組 每一個元素，以及找出此元組 最大值、最小值、總和。"
   ]
  },
  {
   "cell_type": "code",
   "execution_count": 5,
   "metadata": {},
   "outputs": [
    {
     "name": "stdout",
     "output_type": "stream",
     "text": [
      "元組的元素:\n",
      "1.0\n",
      "3.0\n",
      "5.0\n",
      "9.0\n",
      "7.0\n",
      "最大值: 9.0\n",
      "最小值: 1.0\n",
      "總和: 25.0\n"
     ]
    }
   ],
   "source": [
    "data_list = []\n",
    "\n",
    "#輸入五筆數據\n",
    "for i in range(5):\n",
    "    while True:\n",
    "        try:\n",
    "            value = float(input(f\"請輸入第{i+1}個數字:\"))\n",
    "            data_list.append(value)\n",
    "            break\n",
    "        except ValueError:\n",
    "            print('請輸入有效的數字')\n",
    "            \n",
    "#將列表轉換成元組\n",
    "tuple10 = tuple(data_list)\n",
    "\n",
    "#列印出元組的每一個元素\n",
    "print(\"元組的元素:\")\n",
    "for item in tuple10:\n",
    "    print(item)\n",
    "    \n",
    "#找出最大值\n",
    "max_value = max(tuple10)\n",
    "min_value = min(tuple10)\n",
    "sum_value = sum(tuple10)\n",
    "\n",
    "print(f\"最大值: {max_value}\")\n",
    "print(f\"最小值: {min_value}\")\n",
    "print(f\"總和: {sum_value}\")\n",
    "    \n",
    "    "
   ]
  }
 ],
 "metadata": {
  "kernelspec": {
   "display_name": "base",
   "language": "python",
   "name": "python3"
  },
  "language_info": {
   "codemirror_mode": {
    "name": "ipython",
    "version": 3
   },
   "file_extension": ".py",
   "mimetype": "text/x-python",
   "name": "python",
   "nbconvert_exporter": "python",
   "pygments_lexer": "ipython3",
   "version": "3.12.4"
  }
 },
 "nbformat": 4,
 "nbformat_minor": 2
}
