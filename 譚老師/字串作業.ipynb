{
 "cells": [
  {
   "cell_type": "markdown",
   "metadata": {},
   "source": []
  },
  {
   "cell_type": "markdown",
   "metadata": {},
   "source": [
    "1.\t使用者輸入一個字串，顯示該字串的每一個字元索引"
   ]
  },
  {
   "cell_type": "code",
   "execution_count": 2,
   "metadata": {},
   "outputs": [
    {
     "name": "stdout",
     "output_type": "stream",
     "text": [
      "索引0:r\n",
      "索引1:r\n",
      "索引2:r\n",
      "索引3:r\n",
      "索引4:w\n",
      "索引5:a\n",
      "索引6:f\n"
     ]
    }
   ],
   "source": [
    "user_input = input(\"請輸入一個字串:\")\n",
    "\n",
    "for index,char in enumerate(user_input):\n",
    "    print(f\"索引{index}:{char}\")\n",
    "    "
   ]
  },
  {
   "cell_type": "markdown",
   "metadata": {},
   "source": [
    "2.\t使用者輸入一個字串，顯示每個字元對應的ASCII碼，並將ASCII碼加總"
   ]
  },
  {
   "cell_type": "code",
   "execution_count": 3,
   "metadata": {},
   "outputs": [
    {
     "name": "stdout",
     "output_type": "stream",
     "text": [
      "字符 '5' 的ASCII碼是: 53\n",
      "字符 '5' 的ASCII碼是: 53\n",
      "字符 '5' 的ASCII碼是: 53\n",
      "字符 '9' 的ASCII碼是: 57\n",
      "字符 '8' 的ASCII碼是: 56\n",
      "字符 '3' 的ASCII碼是: 51\n",
      "\n",
      "ASCII碼總和: 323\n"
     ]
    }
   ],
   "source": [
    "# 獲取用戶輸入的字串\n",
    "user_input = input(\"請輸入一個字串：\")\n",
    "\n",
    "# 計算每個字符的ASCII碼\n",
    "ascii_codes = [ord(char) for char in user_input]\n",
    "\n",
    "# 顯示每個字符的ASCII碼\n",
    "for i in range(len(user_input)):\n",
    "    print(f\"字符 '{user_input[i]}' 的ASCII碼是: {ascii_codes[i]}\")\n",
    "\n",
    "# 計算並顯示ASCII碼總和\n",
    "total = sum(ascii_codes)\n",
    "print(f\"\\nASCII碼總和: {total}\")"
   ]
  },
  {
   "cell_type": "markdown",
   "metadata": {},
   "source": [
    "3.\t使用者輸入一個句子，(至少五個詞，以空白隔開，並輸出倒數三個詞)"
   ]
  },
  {
   "cell_type": "code",
   "execution_count": 8,
   "metadata": {},
   "outputs": [
    {
     "name": "stdout",
     "output_type": "stream",
     "text": [
      "my\n",
      "type\n",
      "mam\n"
     ]
    }
   ],
   "source": [
    "# 獲取用戶輸入的句子\n",
    "sentence = input(\"請輸入一個句子 (至少五個詞,以空白隔開): \")\n",
    "\n",
    "# 將句子分割成單詞列表\n",
    "words = sentence.split()\n",
    "\n",
    "if len(words)>=5:\n",
    "    #獲取最後三個詞\n",
    "    last_three = words[-3:]\n",
    "    \n",
    "    #輸出最後三個詞\n",
    "    for word in last_three:\n",
    "        print(word)"
   ]
  },
  {
   "cell_type": "markdown",
   "metadata": {},
   "source": [
    "4.\t使用者輸入一個字串，將字串1.全部改為大寫。2.每個字第一個字母改為大寫。"
   ]
  },
  {
   "cell_type": "code",
   "execution_count": 9,
   "metadata": {},
   "outputs": [
    {
     "name": "stdout",
     "output_type": "stream",
     "text": [
      "1.全部改為大寫:\n",
      "NJEHFHFE09HF0E\n",
      "\n",
      "2. 每個字第一個字母改為大寫:\n",
      "Njehfhfe09Hf0E\n"
     ]
    }
   ],
   "source": [
    "input_string = input(\"請輸入一個字串:\")\n",
    "\n",
    "upper_string =input_string.upper()\n",
    "print(\"1.全部改為大寫:\")\n",
    "print(upper_string)\n",
    "\n",
    "#將每個字的第一個字母改為大寫\n",
    "title_string = input_string.title()\n",
    "print(\"\\n2. 每個字第一個字母改為大寫:\")\n",
    "print(title_string)"
   ]
  },
  {
   "cell_type": "markdown",
   "metadata": {},
   "source": [
    "5.\t使用者輸入一個字串和一個字元，計算字串中，字元出現的次數。"
   ]
  },
  {
   "cell_type": "code",
   "execution_count": 10,
   "metadata": {},
   "outputs": [
    {
     "name": "stdout",
     "output_type": "stream",
     "text": [
      "字元 'kjbuui' 在字串中出現了 0 次。\n"
     ]
    }
   ],
   "source": [
    "# 獲取用戶輸入的字串\n",
    "input_string = input(\"請輸入一個字串: \")\n",
    "\n",
    "# 獲取用戶想要計算的字元\n",
    "char_to_count = input(\"請輸入要計算的字元: \")\n",
    "\n",
    "# 計算字元出現的次數\n",
    "count = input_string.count(char_to_count)\n",
    "\n",
    "# 輸出結果\n",
    "print(f\"字元 '{char_to_count}' 在字串中出現了 {count} 次。\")"
   ]
  },
  {
   "cell_type": "markdown",
   "metadata": {},
   "source": [
    "6.\t使用者輸入一個字串，字串為五個數字，以空白隔開，加總五個數字並計算平均"
   ]
  },
  {
   "cell_type": "code",
   "execution_count": 13,
   "metadata": {},
   "outputs": [
    {
     "name": "stdout",
     "output_type": "stream",
     "text": [
      "五個數字的總和是：25\n",
      "五個數字的平均值是：5.00\n"
     ]
    }
   ],
   "source": [
    "input_string = input(\"請輸入五個數字，以空格分割\")\n",
    "\n",
    "numbers = input_string.split()\n",
    "\n",
    "if len(numbers)!=5:\n",
    "    print('錯誤:請確保輸入了5個數字')\n",
    "else:\n",
    "    #將字串轉換成整數並計算總合\n",
    "    total = sum(int(num) for num in numbers)\n",
    "    average = total/5\n",
    "    print(f\"五個數字的總和是：{total}\")\n",
    "    print(f\"五個數字的平均值是：{average:.2f}\")\n",
    "    \n",
    "    \n",
    "    \n",
    "    \n",
    "    "
   ]
  },
  {
   "cell_type": "markdown",
   "metadata": {},
   "source": [
    "7.\t使用者輸入一串序號，格式為ddd-dd-ddd ，d為數字。檢查輸入格式正確，則輸出\"格式正確！\"，否則輸出\"格式錯誤！\""
   ]
  },
  {
   "cell_type": "code",
   "execution_count": 14,
   "metadata": {},
   "outputs": [
    {
     "name": "stdout",
     "output_type": "stream",
     "text": [
      "格式錯誤\n"
     ]
    }
   ],
   "source": [
    "def check_format(serial):\n",
    "    \n",
    "    if len(serial)!=0:\n",
    "        return False\n",
    "    if serial[3]!='-'or serial[6]!='-':\n",
    "        return False\n",
    "    #檢查其他位置是否都是數字\n",
    "    for i in [0,1,2,4,5,7,8,9]:\n",
    "        if not serial[i].isdigit():\n",
    "            return False\n",
    "    return True\n",
    "\n",
    "# 用戶輸入\n",
    "serial = input('請輸入序號 (格式為ddd-dd-ddd):')\n",
    "\n",
    "#檢查格式並輸出結果\n",
    "if check_format(serial):\n",
    "    print(\"格式正確\")\n",
    "else:\n",
    "    print(\"格式錯誤\")"
   ]
  },
  {
   "cell_type": "markdown",
   "metadata": {},
   "source": [
    "8.\t使用者輸入一組字串，檢查是否符合規則：1.至少8個字元，2.只有英文字母和數字，3.至少有一個大寫英文字母。符合顯示\"密碼已設定\"，不合顯示\"密碼設定不符規則\""
   ]
  },
  {
   "cell_type": "code",
   "execution_count": null,
   "metadata": {},
   "outputs": [],
   "source": [
    "def check_password(password):\n",
    "    if len(password)<8:\n",
    "        return False\n",
    "    # 檢查是否只包含英文字母和數字\n",
    "    if not password.isalnum():\n",
    "        return False\n",
    "\n",
    "    # 檢查是否至少包含一個大寫字母\n",
    "    if not any(char.isupper() for char in password):\n",
    "        return False\n",
    "\n",
    "    # 如果所有條件都滿足，返回True\n",
    "    return True\n",
    "# 獲取用戶輸入\n",
    "password = input(\"請輸入密碼：\")\n",
    "\n",
    "# 檢查密碼是否符合規則\n",
    "if check_password(password):\n",
    "    print(\"密碼已設定\")\n",
    "else:\n",
    "    print(\"密碼設定不符規則\")\n",
    "    "
   ]
  }
 ],
 "metadata": {
  "kernelspec": {
   "display_name": "base",
   "language": "python",
   "name": "python3"
  },
  "language_info": {
   "codemirror_mode": {
    "name": "ipython",
    "version": 3
   },
   "file_extension": ".py",
   "mimetype": "text/x-python",
   "name": "python",
   "nbconvert_exporter": "python",
   "pygments_lexer": "ipython3",
   "version": "3.12.4"
  }
 },
 "nbformat": 4,
 "nbformat_minor": 2
}
