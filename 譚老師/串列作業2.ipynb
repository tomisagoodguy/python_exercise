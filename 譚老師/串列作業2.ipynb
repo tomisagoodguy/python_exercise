{
 "cells": [
  {
   "cell_type": "code",
   "execution_count": 1,
   "metadata": {},
   "outputs": [
    {
     "data": {
      "text/plain": [
       "'\\n1.\\t輸入兩個正整數，當作串列的 列數 與 行數 ，每個位置存放內容為那個位置本身的 \"行數索引值\" 減去 \"列數索引值\" 的結果。\\n'"
      ]
     },
     "execution_count": 1,
     "metadata": {},
     "output_type": "execute_result"
    }
   ],
   "source": [
    "'''\n",
    "1.\t輸入兩個正整數，當作串列的 列數 與 行數 ，每個位置存放內容為那個位置本身的 \"行數索引值\" 減去 \"列數索引值\" 的結果。\n",
    "'''\n",
    "\n",
    "# def create_matrix(rows,cols):\n",
    "#     matrix=[]\n",
    "\n",
    "#     for row_index in range(rows):\n",
    "#         row = []\n",
    "#         for col_index in range(cols):\n",
    "#             value = row_index - col_index\n",
    "#             row.append(value)\n",
    "#         matrix.append(row)\n",
    "#     return  matrix\n",
    "\n",
    "# rows = int(input(\"請輸入行數:\"))\n",
    "# cols = int(input(\"請輸入列數:\"))\n",
    "\n",
    "# matrix = create_matrix(rows, cols)\n",
    "# for row in matrix:\n",
    "#     print(row)"
   ]
  },
  {
   "cell_type": "code",
   "execution_count": 2,
   "metadata": {},
   "outputs": [
    {
     "data": {
      "text/plain": [
       "'\\n2.\\t輸入三位學生各五筆平時測驗成績，接著計算並輸出每位總分與平均\\n'"
      ]
     },
     "execution_count": 2,
     "metadata": {},
     "output_type": "execute_result"
    }
   ],
   "source": [
    "\n",
    "\n",
    "'''\n",
    "2.\t輸入三位學生各五筆平時測驗成績，接著計算並輸出每位總分與平均\n",
    "'''\n",
    "\n",
    "# def calculaie_total_and_average(scores):\n",
    "#     total = sum(scores)\n",
    "#     average = total / len(scores)\n",
    "#     return total,average\n",
    "\n",
    "# students_scores = []\n",
    "\n",
    "# for i  in range(3):#輸入3位學生的成績\n",
    "#     print(f\"請輸入第{i+1}位學生的五比測驗成績:\")\n",
    "#     scores = []\n",
    "#     for j in range(5):\n",
    "#         score= float(input(f\"成績{j+1}:\"))\n",
    "#         scores.append(score)\n",
    "\n",
    "#     students_scores.append(scores)\n",
    "\n",
    "# for i, scores in enumerate(students_scores):\n",
    "#     total, average = calculaie_total_and_average(scores)\n",
    "#     print(f\"學生 {i+1} 的總分是: {total}，平均是: {average:.2f}\")"
   ]
  },
  {
   "cell_type": "code",
   "execution_count": 3,
   "metadata": {},
   "outputs": [
    {
     "name": "stdout",
     "output_type": "stream",
     "text": [
      "Index of the largest number 9 is: (2, 2)\n",
      "Index of the smallest number 1 is: (1, 1)\n"
     ]
    }
   ],
   "source": [
    "'''\n",
    "3.\t建立一個3 * 3的串列矩陣，內容為鍵盤輸入的整數(不能重複)，接著輸出矩陣最大與最小值的索引。\n",
    "'''\n",
    "\n",
    "matrix = []\n",
    "\n",
    "while len(matrix) < 9:\n",
    "    num = int(input(\"請輸入一個整數(不重複)\"))\n",
    "    if num not in matrix:\n",
    "        matrix.append(num)\n",
    "    else:\n",
    "        print(\"數字已經存在，請重新輸入:\")\n",
    "\n",
    "#將一維列表轉換成3*3的二維列表\n",
    "matrix_2D = [matrix[i:i+3] for i in range(0, 9, 3)]\n",
    "\n",
    "# 找到矩陣中的最大值和最小值\n",
    "max_value = max(matrix)\n",
    "min_value = min(matrix)\n",
    "\n",
    "# 找到最大值和最小值的索引\n",
    "max_index = [(i, row.index(max_value))\n",
    "             for i, row in enumerate(matrix_2D) if max_value in row][0]\n",
    "min_index = [(i, row.index(min_value))\n",
    "             for i, row in enumerate(matrix_2D) if min_value in row][0]\n",
    "\n",
    "# 輸出結果\n",
    "print(f\"Index of the largest number {max_value} is: {max_index}\")\n",
    "print(f\"Index of the smallest number {min_value} is: {min_index}\")\n",
    "\n"
   ]
  },
  {
   "cell_type": "markdown",
   "metadata": {},
   "source": [
    "讓使用者建立2個 2* 2的串列矩陣內容，內容為鍵盤輸入的整數，接著輸出這兩個矩陣內容及相加結果"
   ]
  },
  {
   "cell_type": "code",
   "execution_count": 4,
   "metadata": {},
   "outputs": [
    {
     "name": "stdout",
     "output_type": "stream",
     "text": [
      "創建第一個矩陣：\n",
      "\n",
      "創建第二個矩陣：\n",
      "\n",
      "第一個矩陣：\n",
      "[7, 4]\n",
      "[1, 8]\n",
      "\n",
      "第二個矩陣：\n",
      "[5, 2]\n",
      "[3, 6]\n",
      "\n",
      "兩個矩陣相加的結果：\n",
      "[12, 6]\n",
      "[4, 14]\n"
     ]
    }
   ],
   "source": [
    "def create_matrix():\n",
    "    matrix = []\n",
    "    for i in range(2): #外循環處理矩陣的兩行\n",
    "        row = []\n",
    "        for j in range(2): # 內層循環處理每行的兩個元素\n",
    "            while True:\n",
    "                try:\n",
    "                    value = int(input(f\"請輸入第{i+1}行第{j+1}列的整數:\"))\n",
    "                    row.append(value)\n",
    "                    break\n",
    "                except ValueError:\n",
    "                    print(\"請輸入有效的數字\")\n",
    "        matrix.append(row) #將完成的行添加到矩陣中\n",
    "    return matrix    \n",
    "\n",
    "def print_matrix(matrix):\n",
    "    for row in  matrix:\n",
    "        print(row)\n",
    "        \n",
    "\n",
    "def add_matrices(matrix1, matrix2):\n",
    "    result = []\n",
    "    for i in range(2):\n",
    "        row= []\n",
    "        for j in range(2):\n",
    "            row.append(matrix1[i][j] + matrix2[i][j])\n",
    "        result.append(row)\n",
    "    return result\n",
    "\n",
    "# 主程序\n",
    "print(\"創建第一個矩陣：\")\n",
    "matrix1 = create_matrix()\n",
    "\n",
    "print(\"\\n創建第二個矩陣：\")\n",
    "matrix2 = create_matrix()\n",
    "\n",
    "print(\"\\n第一個矩陣：\")\n",
    "print_matrix(matrix1)\n",
    "\n",
    "print(\"\\n第二個矩陣：\")\n",
    "print_matrix(matrix2)\n",
    "\n",
    "result = add_matrices(matrix1, matrix2)\n",
    "print(\"\\n兩個矩陣相加的結果：\")\n",
    "print_matrix(result)\n",
    "    \n",
    "                "
   ]
  },
  {
   "cell_type": "markdown",
   "metadata": {},
   "source": [
    "使用者建立四週各三天溫度，接著計算並輸出這四週的平均溫度，及最高最低溫。"
   ]
  },
  {
   "cell_type": "code",
   "execution_count": 5,
   "metadata": {},
   "outputs": [
    {
     "name": "stdout",
     "output_type": "stream",
     "text": [
      "\n",
      "四週的平均溫度是：13.67度\n",
      "最高溫度是：51.0度\n",
      "最低溫度是：1.0度\n"
     ]
    }
   ],
   "source": [
    "temperatures = [] #儲存所有溫度\n",
    "\n",
    "for week in range(1,5): #外層循環四週\n",
    "    for day in range(1,4): #內層循環每周三天\n",
    "        temp = float(input(f\"請輸入第{week}週第{day}天的溫度:\"))\n",
    "        temperatures.append(temp)\n",
    "        \n",
    "#計算平均溫度\n",
    "average_temp = sum(temperatures)/len(temperatures)\n",
    "max_temp = max(temperatures)\n",
    "min_temp = min(temperatures)    \n",
    "\n",
    "print(f\"\\n四週的平均溫度是：{average_temp:.2f}度\")\n",
    "print(f\"最高溫度是：{max_temp}度\")\n",
    "print(f\"最低溫度是：{min_temp}度\")\n"
   ]
  },
  {
   "cell_type": "markdown",
   "metadata": {},
   "source": [
    "主程式 main( ) 宣告一個名為 lst、大小為5的整數串列，傳給函式 output(aList)。\n",
    "\n",
    "output(aList)函式讓使用者輸入串列內容，傳回主程式輸出。\n",
    "\n",
    "主程式將串列傳給自定義的 min(aList)和max(aList)函式，各自計算最大值和最小值並傳回主程式輸出。"
   ]
  },
  {
   "cell_type": "code",
   "execution_count": 6,
   "metadata": {},
   "outputs": [
    {
     "ename": "ValueError",
     "evalue": "invalid literal for int() with base 10: ''",
     "output_type": "error",
     "traceback": [
      "\u001b[1;31m---------------------------------------------------------------------------\u001b[0m",
      "\u001b[1;31mValueError\u001b[0m                                Traceback (most recent call last)",
      "Cell \u001b[1;32mIn[6], line 31\u001b[0m\n\u001b[0;32m     29\u001b[0m \u001b[38;5;66;03m# 調用主函式\u001b[39;00m\n\u001b[0;32m     30\u001b[0m \u001b[38;5;28;01mif\u001b[39;00m \u001b[38;5;18m__name__\u001b[39m \u001b[38;5;241m==\u001b[39m \u001b[38;5;124m\"\u001b[39m\u001b[38;5;124m__main__\u001b[39m\u001b[38;5;124m\"\u001b[39m:\n\u001b[1;32m---> 31\u001b[0m     \u001b[43mmain\u001b[49m\u001b[43m(\u001b[49m\u001b[43m)\u001b[49m\n",
      "Cell \u001b[1;32mIn[6], line 16\u001b[0m, in \u001b[0;36mmain\u001b[1;34m()\u001b[0m\n\u001b[0;32m     14\u001b[0m \u001b[38;5;28;01mdef\u001b[39;00m \u001b[38;5;21mmain\u001b[39m():\n\u001b[0;32m     15\u001b[0m     lst \u001b[38;5;241m=\u001b[39m [\u001b[38;5;241m0\u001b[39m]\u001b[38;5;241m*\u001b[39m\u001b[38;5;241m5\u001b[39m \u001b[38;5;66;03m#宣告一個大小為5的整數串列\u001b[39;00m\n\u001b[1;32m---> 16\u001b[0m     lst \u001b[38;5;241m=\u001b[39m \u001b[43moutput\u001b[49m\u001b[43m(\u001b[49m\u001b[43mlst\u001b[49m\u001b[43m)\u001b[49m    \u001b[38;5;66;03m# 調用 output 函式讓使用者輸入串列內容\u001b[39;00m\n\u001b[0;32m     18\u001b[0m     \u001b[38;5;66;03m# 輸出串列內容\u001b[39;00m\n\u001b[0;32m     19\u001b[0m     \u001b[38;5;28mprint\u001b[39m(\u001b[38;5;124m\"\u001b[39m\u001b[38;5;124m串列內容:\u001b[39m\u001b[38;5;124m\"\u001b[39m, lst)\n",
      "Cell \u001b[1;32mIn[6], line 4\u001b[0m, in \u001b[0;36moutput\u001b[1;34m(alist)\u001b[0m\n\u001b[0;32m      1\u001b[0m \u001b[38;5;28;01mdef\u001b[39;00m \u001b[38;5;21moutput\u001b[39m(alist):\n\u001b[0;32m      2\u001b[0m     \u001b[38;5;66;03m#請使用者輸入串列並返回\u001b[39;00m\n\u001b[0;32m      3\u001b[0m     \u001b[38;5;28;01mfor\u001b[39;00m i \u001b[38;5;129;01min\u001b[39;00m \u001b[38;5;28mrange\u001b[39m(\u001b[38;5;28mlen\u001b[39m(alist)):\n\u001b[1;32m----> 4\u001b[0m         alist[i] \u001b[38;5;241m=\u001b[39m \u001b[38;5;28;43mint\u001b[39;49m\u001b[43m(\u001b[49m\u001b[38;5;28;43minput\u001b[39;49m\u001b[43m(\u001b[49m\u001b[38;5;124;43mf\u001b[39;49m\u001b[38;5;124;43m\"\u001b[39;49m\u001b[38;5;124;43m請輸入第\u001b[39;49m\u001b[38;5;132;43;01m{\u001b[39;49;00m\u001b[43mi\u001b[49m\u001b[38;5;241;43m+\u001b[39;49m\u001b[38;5;241;43m1\u001b[39;49m\u001b[38;5;132;43;01m}\u001b[39;49;00m\u001b[38;5;124;43m個整數\u001b[39;49m\u001b[38;5;124;43m\"\u001b[39;49m\u001b[43m)\u001b[49m\u001b[43m)\u001b[49m\n\u001b[0;32m      5\u001b[0m     \u001b[38;5;28;01mreturn\u001b[39;00m alist\n",
      "\u001b[1;31mValueError\u001b[0m: invalid literal for int() with base 10: ''"
     ]
    }
   ],
   "source": [
    "def output(alist):\n",
    "    #請使用者輸入串列並返回\n",
    "    for i in range(len(alist)):\n",
    "        alist[i] = int(input(f\"請輸入第{i+1}個整數\"))\n",
    "    return alist\n",
    "\n",
    "def min_alist(alist):\n",
    "    return min(alist)\n",
    "\n",
    "\n",
    "def max_alist(alist):\n",
    "    return max(alist)\n",
    "\n",
    "def main():\n",
    "    lst = [0]*5 #宣告一個大小為5的整數串列\n",
    "    lst = output(lst)    # 調用 output 函式讓使用者輸入串列內容\n",
    "    \n",
    "    # 輸出串列內容\n",
    "    print(\"串列內容:\", lst)\n",
    "\n",
    "    # 調用 min_value 和 max_value 函式計算最小值和最大值\n",
    "    minimum = min_alist(lst)\n",
    "    maximum = max_alist(lst)\n",
    "\n",
    "    # 輸出最小值和最大值\n",
    "    print(\"最小值:\", minimum)\n",
    "    print(\"最大值:\", maximum)\n",
    "\n",
    "# 調用主函式\n",
    "if __name__ == \"__main__\":\n",
    "    main()\n",
    "    \n",
    "        "
   ]
  },
  {
   "cell_type": "markdown",
   "metadata": {},
   "source": [
    "主程式 main()中，讓使用者輸入不重複的10個數字到串列，將串列傳遞給 compuet()函式，函式接收一個串列lst 和一個變數 a (預設值為3)，並傳回lst中a個最大數字，將結果回傳主程式 main()輸出。"
   ]
  },
  {
   "cell_type": "code",
   "execution_count": 7,
   "metadata": {},
   "outputs": [
    {
     "name": "stdout",
     "output_type": "stream",
     "text": [
      "請輸入10個不重複的數字\n",
      "\n",
      "在您輸入的數字中，3個最大的數字是：[11, 9, 8]\n"
     ]
    }
   ],
   "source": [
    "def compute(lst,a=3):\n",
    "    #對串列進行排序(降序)\n",
    "    sorted_list = sorted(lst, reverse=True)\n",
    "    #返回前a個最大的數字\n",
    "    \n",
    "    return sorted_list[:a]\n",
    "\n",
    "def main():\n",
    "    #創建一個空串列來儲存用戶輸入的數字\n",
    "    numbers =[]\n",
    "    print(\"請輸入10個不重複的數字\")\n",
    "    \n",
    "    #使用while 確保輸入10個不重複的數字\n",
    "    while len(numbers)<10:\n",
    "        try:\n",
    "            num = int(input(f\"請輸入第{len(numbers)+1}個數字\"))\n",
    "            if num  in numbers:\n",
    "                print(\"這個數字已經輸入過了，請輸入一個不同的數字\")\n",
    "            else:\n",
    "                numbers.append(num)\n",
    "        except ValueError:\n",
    "            print(\"請輸入一個有效的數字\")\n",
    "       # 調用 compute 函式，獲取3個最大的數字\n",
    "    result = compute(numbers)\n",
    "\n",
    "    # 輸出結果\n",
    "    print(f\"\\n在您輸入的數字中，3個最大的數字是：{result}\")\n",
    "\n",
    "# 執行主程式\n",
    "if __name__ == \"__main__\":\n",
    "    main()\n",
    "    \n",
    "                "
   ]
  },
  {
   "cell_type": "markdown",
   "metadata": {},
   "source": [
    "使用lotto ()產生6個樂透號碼，並以main()函式呼叫5次lotto()函式產生五組號碼，並由小到大排序出來。\n",
    "\n"
   ]
  },
  {
   "cell_type": "code",
   "execution_count": 4,
   "metadata": {},
   "outputs": [
    {
     "name": "stdout",
     "output_type": "stream",
     "text": [
      "第1組號碼: [8, 16, 25, 26, 35, 38]\n",
      "第2組號碼: [1, 4, 5, 10, 16, 19]\n",
      "第3組號碼: [2, 4, 5, 10, 20, 23]\n",
      "第4組號碼: [7, 14, 26, 36, 39, 40]\n",
      "第5組號碼: [4, 8, 16, 20, 39, 48]\n"
     ]
    }
   ],
   "source": [
    "import random\n",
    "\n",
    "def lotto():\n",
    "    #生成六個不重複一到五十之間的隨機數\n",
    "    numbers = random.sample(range(1,50),6)\n",
    "    return sorted(numbers)\n",
    "\n",
    "def main():\n",
    "    #生成5組樂透號碼\n",
    "    all_numbers = [lotto()for _ in range(5)]\n",
    "    \n",
    "    # 輸出結果\n",
    "    for i, numbers in enumerate(all_numbers, 1):\n",
    "        print(f\"第{i}組號碼: {numbers}\")\n",
    "\n",
    "if __name__ == \"__main__\":\n",
    "    main()"
   ]
  }
 ],
 "metadata": {
  "kernelspec": {
   "display_name": "base",
   "language": "python",
   "name": "python3"
  },
  "language_info": {
   "codemirror_mode": {
    "name": "ipython",
    "version": 3
   },
   "file_extension": ".py",
   "mimetype": "text/x-python",
   "name": "python",
   "nbconvert_exporter": "python",
   "pygments_lexer": "ipython3",
   "version": "3.12.4"
  }
 },
 "nbformat": 4,
 "nbformat_minor": 2
}
