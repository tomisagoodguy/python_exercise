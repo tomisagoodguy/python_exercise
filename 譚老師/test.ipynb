{
 "cells": [
  {
   "cell_type": "code",
   "execution_count": 1,
   "metadata": {},
   "outputs": [
    {
     "name": "stdout",
     "output_type": "stream",
     "text": [
      "\n",
      "2000年到2050年之間的閏年：\n",
      "2000 2004 2008 2012 2016 2020 2024 2028 2032 2036 \n",
      "2040 2044 2048 \n",
      "\n",
      "共有 13 個閏年\n"
     ]
    }
   ],
   "source": [
    "year1 = int(input(\"請輸入第一個西元年分：\"))\n",
    "year2 = int(input(\"請輸入第二個西元年分：\"))\n",
    "\n",
    "start_year = min(year1, year2)\n",
    "end_year = max(year1, year2)\n",
    "\n",
    "leap_years = []\n",
    "\n",
    "for year in range(start_year, end_year + 1):\n",
    "    if year % 400 == 0 or (year % 4 == 0 and year % 100 != 0):\n",
    "        leap_years.append(year)\n",
    "\n",
    "print(f\"\\n{start_year}年到{end_year}年之間的閏年：\")\n",
    "\n",
    "for i in range(0, len(leap_years), 10):\n",
    "    line = leap_years[i:i+10]\n",
    "    for year in line:\n",
    "        print(f\"{year:4d}\", end=\" \")\n",
    "    print()  # 換行\n",
    "\n",
    "print(f\"\\n共有 {len(leap_years)} 個閏年\")"
   ]
  },
  {
   "cell_type": "code",
   "execution_count": 5,
   "metadata": {},
   "outputs": [
    {
     "name": "stdout",
     "output_type": "stream",
     "text": [
      "50和20和75最大公因數是10\n"
     ]
    }
   ],
   "source": [
    "a= int(input(\"請輸入一個正整數 a :\"))\n",
    "b = int(input(\"請輸入一個正整數 b :\"))\n",
    "c = int(input(\"請輸入一個正整數 c :\"))\n",
    "\n",
    "smallest= min(a,b,c)\n",
    "\n",
    "gcd = 1\n",
    "for i in range(1,smallest+1):\n",
    "    if a % i ==0 and b % i ==0 and b % i ==0 :\n",
    "     gcd = i\n",
    "print(f\"{a}和{b}和{c}最大公因數是{gcd}\")"
   ]
  },
  {
   "cell_type": "code",
   "execution_count": 2,
   "metadata": {},
   "outputs": [
    {
     "name": "stdout",
     "output_type": "stream",
     "text": [
      "1 ~ 90 完美數有: 6  28  \n"
     ]
    }
   ],
   "source": [
    "# 輸入一個數字\n",
    "n = int(input(\"請輸入一個數： \"))\n",
    "\n",
    "print(f\"1 ~ {n} 完美數有: \", end=\"\")\n",
    "\n",
    "# 檢查從1到n的每個數\n",
    "for num in range(1, n+1):\n",
    "    # 初始化因數之和\n",
    "    sum_of_factors = 0\n",
    "    # 找出num的所有因數並求和\n",
    "    for i in range(1, num):\n",
    "        if num % i == 0:\n",
    "            sum_of_factors += i\n",
    "\n",
    "    # 如果因數之和等於數字本身，它就是完美數\n",
    "    if sum_of_factors == num:\n",
    "        print(num, end=\"  \")\n",
    "\n",
    "print()  # 最後打印一個換行"
   ]
  }
 ],
 "metadata": {
  "kernelspec": {
   "display_name": "base",
   "language": "python",
   "name": "python3"
  },
  "language_info": {
   "codemirror_mode": {
    "name": "ipython",
    "version": 3
   },
   "file_extension": ".py",
   "mimetype": "text/x-python",
   "name": "python",
   "nbconvert_exporter": "python",
   "pygments_lexer": "ipython3",
   "version": "3.12.4"
  }
 },
 "nbformat": 4,
 "nbformat_minor": 2
}
